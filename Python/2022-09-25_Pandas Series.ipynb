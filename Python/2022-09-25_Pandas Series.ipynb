{
 "cells": [
  {
   "cell_type": "markdown",
   "id": "da6bcbe7-ec99-4ca8-9ac8-a4d50da29a75",
   "metadata": {},
   "source": [
    "# Udemy 강의"
   ]
  },
  {
   "cell_type": "markdown",
   "id": "5c8dd786-b3f2-42b9-a4fd-fbaddaaecf9b",
   "metadata": {},
   "source": [
    "## Section 4. 판다스 시리즈와 인덱스 객체"
   ]
  },
  {
   "cell_type": "markdown",
   "id": "423c38a4-5f9a-4097-b092-ab51702444ef",
   "metadata": {},
   "source": [
    "### Pandas Series"
   ]
  },
  {
   "cell_type": "code",
   "execution_count": 1,
   "id": "b395c497-6daa-47bb-9ee0-cc36e03733fc",
   "metadata": {},
   "outputs": [],
   "source": [
    "import pandas as pd"
   ]
  },
  {
   "cell_type": "code",
   "execution_count": 2,
   "id": "f9ba5b31-d72b-49fb-8812-c2706a361220",
   "metadata": {},
   "outputs": [],
   "source": [
    "titanic = pd.read_csv(r'C:\\Users\\A\\Desktop\\데잇걸즈\\3. python\\udemy\\Course_Materials_Part1\\Video_Lecture_NBs\\titanic.csv')"
   ]
  },
  {
   "cell_type": "code",
   "execution_count": 3,
   "id": "ae8c7082-2b95-41b4-a167-8c8ea6a884c8",
   "metadata": {},
   "outputs": [
    {
     "data": {
      "text/html": [
       "<div>\n",
       "<style scoped>\n",
       "    .dataframe tbody tr th:only-of-type {\n",
       "        vertical-align: middle;\n",
       "    }\n",
       "\n",
       "    .dataframe tbody tr th {\n",
       "        vertical-align: top;\n",
       "    }\n",
       "\n",
       "    .dataframe thead th {\n",
       "        text-align: right;\n",
       "    }\n",
       "</style>\n",
       "<table border=\"1\" class=\"dataframe\">\n",
       "  <thead>\n",
       "    <tr style=\"text-align: right;\">\n",
       "      <th></th>\n",
       "      <th>survived</th>\n",
       "      <th>pclass</th>\n",
       "      <th>sex</th>\n",
       "      <th>age</th>\n",
       "      <th>sibsp</th>\n",
       "      <th>parch</th>\n",
       "      <th>fare</th>\n",
       "      <th>embarked</th>\n",
       "      <th>deck</th>\n",
       "    </tr>\n",
       "  </thead>\n",
       "  <tbody>\n",
       "    <tr>\n",
       "      <th>0</th>\n",
       "      <td>0</td>\n",
       "      <td>3</td>\n",
       "      <td>male</td>\n",
       "      <td>22.0</td>\n",
       "      <td>1</td>\n",
       "      <td>0</td>\n",
       "      <td>7.2500</td>\n",
       "      <td>S</td>\n",
       "      <td>NaN</td>\n",
       "    </tr>\n",
       "    <tr>\n",
       "      <th>1</th>\n",
       "      <td>1</td>\n",
       "      <td>1</td>\n",
       "      <td>female</td>\n",
       "      <td>38.0</td>\n",
       "      <td>1</td>\n",
       "      <td>0</td>\n",
       "      <td>71.2833</td>\n",
       "      <td>C</td>\n",
       "      <td>C</td>\n",
       "    </tr>\n",
       "    <tr>\n",
       "      <th>2</th>\n",
       "      <td>1</td>\n",
       "      <td>3</td>\n",
       "      <td>female</td>\n",
       "      <td>26.0</td>\n",
       "      <td>0</td>\n",
       "      <td>0</td>\n",
       "      <td>7.9250</td>\n",
       "      <td>S</td>\n",
       "      <td>NaN</td>\n",
       "    </tr>\n",
       "    <tr>\n",
       "      <th>3</th>\n",
       "      <td>1</td>\n",
       "      <td>1</td>\n",
       "      <td>female</td>\n",
       "      <td>35.0</td>\n",
       "      <td>1</td>\n",
       "      <td>0</td>\n",
       "      <td>53.1000</td>\n",
       "      <td>S</td>\n",
       "      <td>C</td>\n",
       "    </tr>\n",
       "    <tr>\n",
       "      <th>4</th>\n",
       "      <td>0</td>\n",
       "      <td>3</td>\n",
       "      <td>male</td>\n",
       "      <td>35.0</td>\n",
       "      <td>0</td>\n",
       "      <td>0</td>\n",
       "      <td>8.0500</td>\n",
       "      <td>S</td>\n",
       "      <td>NaN</td>\n",
       "    </tr>\n",
       "    <tr>\n",
       "      <th>...</th>\n",
       "      <td>...</td>\n",
       "      <td>...</td>\n",
       "      <td>...</td>\n",
       "      <td>...</td>\n",
       "      <td>...</td>\n",
       "      <td>...</td>\n",
       "      <td>...</td>\n",
       "      <td>...</td>\n",
       "      <td>...</td>\n",
       "    </tr>\n",
       "    <tr>\n",
       "      <th>886</th>\n",
       "      <td>0</td>\n",
       "      <td>2</td>\n",
       "      <td>male</td>\n",
       "      <td>27.0</td>\n",
       "      <td>0</td>\n",
       "      <td>0</td>\n",
       "      <td>13.0000</td>\n",
       "      <td>S</td>\n",
       "      <td>NaN</td>\n",
       "    </tr>\n",
       "    <tr>\n",
       "      <th>887</th>\n",
       "      <td>1</td>\n",
       "      <td>1</td>\n",
       "      <td>female</td>\n",
       "      <td>19.0</td>\n",
       "      <td>0</td>\n",
       "      <td>0</td>\n",
       "      <td>30.0000</td>\n",
       "      <td>S</td>\n",
       "      <td>B</td>\n",
       "    </tr>\n",
       "    <tr>\n",
       "      <th>888</th>\n",
       "      <td>0</td>\n",
       "      <td>3</td>\n",
       "      <td>female</td>\n",
       "      <td>NaN</td>\n",
       "      <td>1</td>\n",
       "      <td>2</td>\n",
       "      <td>23.4500</td>\n",
       "      <td>S</td>\n",
       "      <td>NaN</td>\n",
       "    </tr>\n",
       "    <tr>\n",
       "      <th>889</th>\n",
       "      <td>1</td>\n",
       "      <td>1</td>\n",
       "      <td>male</td>\n",
       "      <td>26.0</td>\n",
       "      <td>0</td>\n",
       "      <td>0</td>\n",
       "      <td>30.0000</td>\n",
       "      <td>C</td>\n",
       "      <td>C</td>\n",
       "    </tr>\n",
       "    <tr>\n",
       "      <th>890</th>\n",
       "      <td>0</td>\n",
       "      <td>3</td>\n",
       "      <td>male</td>\n",
       "      <td>32.0</td>\n",
       "      <td>0</td>\n",
       "      <td>0</td>\n",
       "      <td>7.7500</td>\n",
       "      <td>Q</td>\n",
       "      <td>NaN</td>\n",
       "    </tr>\n",
       "  </tbody>\n",
       "</table>\n",
       "<p>891 rows × 9 columns</p>\n",
       "</div>"
      ],
      "text/plain": [
       "     survived  pclass     sex   age  sibsp  parch     fare embarked deck\n",
       "0           0       3    male  22.0      1      0   7.2500        S  NaN\n",
       "1           1       1  female  38.0      1      0  71.2833        C    C\n",
       "2           1       3  female  26.0      0      0   7.9250        S  NaN\n",
       "3           1       1  female  35.0      1      0  53.1000        S    C\n",
       "4           0       3    male  35.0      0      0   8.0500        S  NaN\n",
       "..        ...     ...     ...   ...    ...    ...      ...      ...  ...\n",
       "886         0       2    male  27.0      0      0  13.0000        S  NaN\n",
       "887         1       1  female  19.0      0      0  30.0000        S    B\n",
       "888         0       3  female   NaN      1      2  23.4500        S  NaN\n",
       "889         1       1    male  26.0      0      0  30.0000        C    C\n",
       "890         0       3    male  32.0      0      0   7.7500        Q  NaN\n",
       "\n",
       "[891 rows x 9 columns]"
      ]
     },
     "execution_count": 3,
     "metadata": {},
     "output_type": "execute_result"
    }
   ],
   "source": [
    "titanic"
   ]
  },
  {
   "cell_type": "code",
   "execution_count": 4,
   "id": "ab9c9d62-46db-4d11-8127-9b371072cbae",
   "metadata": {},
   "outputs": [
    {
     "data": {
      "text/plain": [
       "0      22.0\n",
       "1      38.0\n",
       "2      26.0\n",
       "3      35.0\n",
       "4      35.0\n",
       "       ... \n",
       "886    27.0\n",
       "887    19.0\n",
       "888     NaN\n",
       "889    26.0\n",
       "890    32.0\n",
       "Name: age, Length: 891, dtype: float64"
      ]
     },
     "execution_count": 4,
     "metadata": {},
     "output_type": "execute_result"
    }
   ],
   "source": [
    "# 아래와 같이 불러오면 series가 됨\n",
    "\n",
    "titanic[\"age\"]"
   ]
  },
  {
   "cell_type": "code",
   "execution_count": 5,
   "id": "e04d56cc-b97e-488f-8c88-99d362d73c15",
   "metadata": {},
   "outputs": [
    {
     "data": {
      "text/plain": [
       "pandas.core.series.Series"
      ]
     },
     "execution_count": 5,
     "metadata": {},
     "output_type": "execute_result"
    }
   ],
   "source": [
    "# type 함수를 통해 series라는 것을 확인할 수 있음\n",
    "# 이 series는 라벨이 있는 1차원 배열\n",
    "\n",
    "type(titanic[\"age\"])"
   ]
  },
  {
   "cell_type": "code",
   "execution_count": 6,
   "id": "49d143a3-fed7-4285-93cf-82f832fc6561",
   "metadata": {},
   "outputs": [],
   "source": [
    "# 위의 배열에는 891개의 데이터가 있고, 이 데이터의 인덱스 라벨은 데이터프레임에 있는 인덱스와 같음"
   ]
  },
  {
   "cell_type": "code",
   "execution_count": 7,
   "id": "a61a8156-6f2f-44e6-a492-fc6f8101f4b8",
   "metadata": {},
   "outputs": [
    {
     "data": {
      "text/plain": [
       "True"
      ]
     },
     "execution_count": 7,
     "metadata": {},
     "output_type": "execute_result"
    }
   ],
   "source": [
    "# 점 표기법으로도 확인 가능\n",
    "# equals 함수를 통해 점 표기법과 [ ] 표기법 결과가 같음을 확인할 수 있음\n",
    "\n",
    "titanic[\"age\"].equals(titanic.age)"
   ]
  },
  {
   "cell_type": "code",
   "execution_count": 8,
   "id": "2496407d-cc52-4e15-bd9e-ce73efc9467b",
   "metadata": {},
   "outputs": [],
   "source": [
    "age = titanic[\"age\"]"
   ]
  },
  {
   "cell_type": "code",
   "execution_count": 9,
   "id": "87a2a4be-5696-41b8-8b0a-10fc036f22b7",
   "metadata": {},
   "outputs": [],
   "source": [
    "# 판다스에서는 데이터프레임과 시리즈가 대부분의 속성과 메소드를 공유\n",
    "# 데이터프레임에만 적용되거나 시리즈에만 적용되는 메소드/속성은 거의 없음"
   ]
  },
  {
   "cell_type": "code",
   "execution_count": 10,
   "id": "0e9c2231-b14d-4f1a-be4f-559dd09654a7",
   "metadata": {},
   "outputs": [
    {
     "data": {
      "text/plain": [
       "0    22.0\n",
       "1    38.0\n",
       "2    26.0\n",
       "3    35.0\n",
       "4    35.0\n",
       "Name: age, dtype: float64"
      ]
     },
     "execution_count": 10,
     "metadata": {},
     "output_type": "execute_result"
    }
   ],
   "source": [
    "age.head()"
   ]
  },
  {
   "cell_type": "code",
   "execution_count": 11,
   "id": "57ce80ed-7f4a-44da-82bd-eeb7ca88a059",
   "metadata": {},
   "outputs": [
    {
     "data": {
      "text/plain": [
       "886    27.0\n",
       "887    19.0\n",
       "888     NaN\n",
       "889    26.0\n",
       "890    32.0\n",
       "Name: age, dtype: float64"
      ]
     },
     "execution_count": 11,
     "metadata": {},
     "output_type": "execute_result"
    }
   ],
   "source": [
    "age.tail()"
   ]
  },
  {
   "cell_type": "code",
   "execution_count": 12,
   "id": "396a9833-d9b2-4977-b0b6-0c1b630f366d",
   "metadata": {},
   "outputs": [
    {
     "data": {
      "text/plain": [
       "dtype('float64')"
      ]
     },
     "execution_count": 12,
     "metadata": {},
     "output_type": "execute_result"
    }
   ],
   "source": [
    "# 자료형을 표시해줌\n",
    "\n",
    "age.dtype"
   ]
  },
  {
   "cell_type": "code",
   "execution_count": 13,
   "id": "56a0cdf6-0541-4a94-819b-c4e076dec9ee",
   "metadata": {},
   "outputs": [
    {
     "data": {
      "text/plain": [
       "(891,)"
      ]
     },
     "execution_count": 13,
     "metadata": {},
     "output_type": "execute_result"
    }
   ],
   "source": [
    "age.shape"
   ]
  },
  {
   "cell_type": "code",
   "execution_count": 14,
   "id": "3cc1942c-be31-4829-b333-f0efc7949c05",
   "metadata": {},
   "outputs": [
    {
     "data": {
      "text/plain": [
       "891"
      ]
     },
     "execution_count": 14,
     "metadata": {},
     "output_type": "execute_result"
    }
   ],
   "source": [
    "len(age)"
   ]
  },
  {
   "cell_type": "code",
   "execution_count": 15,
   "id": "4361fe58-9087-4de3-aabb-78233a389e0b",
   "metadata": {},
   "outputs": [
    {
     "data": {
      "text/plain": [
       "RangeIndex(start=0, stop=891, step=1)"
      ]
     },
     "execution_count": 15,
     "metadata": {},
     "output_type": "execute_result"
    }
   ],
   "source": [
    "age.index"
   ]
  },
  {
   "cell_type": "code",
   "execution_count": 16,
   "id": "46883d6d-07bb-4b10-8f05-3b47a5e78f88",
   "metadata": {
    "scrolled": true,
    "tags": []
   },
   "outputs": [
    {
     "ename": "AttributeError",
     "evalue": "'Series' object has no attribute 'info'",
     "output_type": "error",
     "traceback": [
      "\u001b[1;31m---------------------------------------------------------------------------\u001b[0m",
      "\u001b[1;31mAttributeError\u001b[0m                            Traceback (most recent call last)",
      "\u001b[1;32m<ipython-input-16-49b124f64450>\u001b[0m in \u001b[0;36m<module>\u001b[1;34m\u001b[0m\n\u001b[1;32m----> 1\u001b[1;33m \u001b[0mage\u001b[0m\u001b[1;33m.\u001b[0m\u001b[0minfo\u001b[0m\u001b[1;33m(\u001b[0m\u001b[1;33m)\u001b[0m\u001b[1;33m\u001b[0m\u001b[1;33m\u001b[0m\u001b[0m\n\u001b[0m",
      "\u001b[1;32m~\\anaconda3\\lib\\site-packages\\pandas\\core\\generic.py\u001b[0m in \u001b[0;36m__getattr__\u001b[1;34m(self, name)\u001b[0m\n\u001b[0;32m   5463\u001b[0m             \u001b[1;32mif\u001b[0m \u001b[0mself\u001b[0m\u001b[1;33m.\u001b[0m\u001b[0m_info_axis\u001b[0m\u001b[1;33m.\u001b[0m\u001b[0m_can_hold_identifiers_and_holds_name\u001b[0m\u001b[1;33m(\u001b[0m\u001b[0mname\u001b[0m\u001b[1;33m)\u001b[0m\u001b[1;33m:\u001b[0m\u001b[1;33m\u001b[0m\u001b[1;33m\u001b[0m\u001b[0m\n\u001b[0;32m   5464\u001b[0m                 \u001b[1;32mreturn\u001b[0m \u001b[0mself\u001b[0m\u001b[1;33m[\u001b[0m\u001b[0mname\u001b[0m\u001b[1;33m]\u001b[0m\u001b[1;33m\u001b[0m\u001b[1;33m\u001b[0m\u001b[0m\n\u001b[1;32m-> 5465\u001b[1;33m             \u001b[1;32mreturn\u001b[0m \u001b[0mobject\u001b[0m\u001b[1;33m.\u001b[0m\u001b[0m__getattribute__\u001b[0m\u001b[1;33m(\u001b[0m\u001b[0mself\u001b[0m\u001b[1;33m,\u001b[0m \u001b[0mname\u001b[0m\u001b[1;33m)\u001b[0m\u001b[1;33m\u001b[0m\u001b[1;33m\u001b[0m\u001b[0m\n\u001b[0m\u001b[0;32m   5466\u001b[0m \u001b[1;33m\u001b[0m\u001b[0m\n\u001b[0;32m   5467\u001b[0m     \u001b[1;32mdef\u001b[0m \u001b[0m__setattr__\u001b[0m\u001b[1;33m(\u001b[0m\u001b[0mself\u001b[0m\u001b[1;33m,\u001b[0m \u001b[0mname\u001b[0m\u001b[1;33m:\u001b[0m \u001b[0mstr\u001b[0m\u001b[1;33m,\u001b[0m \u001b[0mvalue\u001b[0m\u001b[1;33m)\u001b[0m \u001b[1;33m->\u001b[0m \u001b[1;32mNone\u001b[0m\u001b[1;33m:\u001b[0m\u001b[1;33m\u001b[0m\u001b[1;33m\u001b[0m\u001b[0m\n",
      "\u001b[1;31mAttributeError\u001b[0m: 'Series' object has no attribute 'info'"
     ]
    }
   ],
   "source": [
    "# 데이터프레임에는 info를 통해 전체적인 속성을 볼 수 있지만\n",
    "# 시리즈에서는 info 속성이 없다는 오류가 뜸\n",
    "# 따라서 info는 데이터프레임에서만 사용 가능\n",
    "\n",
    "age.info()"
   ]
  },
  {
   "cell_type": "code",
   "execution_count": 17,
   "id": "61b250cc-9b88-4b99-a8fc-2f94e3511459",
   "metadata": {},
   "outputs": [
    {
     "data": {
      "text/html": [
       "<div>\n",
       "<style scoped>\n",
       "    .dataframe tbody tr th:only-of-type {\n",
       "        vertical-align: middle;\n",
       "    }\n",
       "\n",
       "    .dataframe tbody tr th {\n",
       "        vertical-align: top;\n",
       "    }\n",
       "\n",
       "    .dataframe thead th {\n",
       "        text-align: right;\n",
       "    }\n",
       "</style>\n",
       "<table border=\"1\" class=\"dataframe\">\n",
       "  <thead>\n",
       "    <tr style=\"text-align: right;\">\n",
       "      <th></th>\n",
       "      <th>age</th>\n",
       "    </tr>\n",
       "  </thead>\n",
       "  <tbody>\n",
       "    <tr>\n",
       "      <th>0</th>\n",
       "      <td>22.0</td>\n",
       "    </tr>\n",
       "    <tr>\n",
       "      <th>1</th>\n",
       "      <td>38.0</td>\n",
       "    </tr>\n",
       "    <tr>\n",
       "      <th>2</th>\n",
       "      <td>26.0</td>\n",
       "    </tr>\n",
       "    <tr>\n",
       "      <th>3</th>\n",
       "      <td>35.0</td>\n",
       "    </tr>\n",
       "    <tr>\n",
       "      <th>4</th>\n",
       "      <td>35.0</td>\n",
       "    </tr>\n",
       "    <tr>\n",
       "      <th>...</th>\n",
       "      <td>...</td>\n",
       "    </tr>\n",
       "    <tr>\n",
       "      <th>886</th>\n",
       "      <td>27.0</td>\n",
       "    </tr>\n",
       "    <tr>\n",
       "      <th>887</th>\n",
       "      <td>19.0</td>\n",
       "    </tr>\n",
       "    <tr>\n",
       "      <th>888</th>\n",
       "      <td>NaN</td>\n",
       "    </tr>\n",
       "    <tr>\n",
       "      <th>889</th>\n",
       "      <td>26.0</td>\n",
       "    </tr>\n",
       "    <tr>\n",
       "      <th>890</th>\n",
       "      <td>32.0</td>\n",
       "    </tr>\n",
       "  </tbody>\n",
       "</table>\n",
       "<p>891 rows × 1 columns</p>\n",
       "</div>"
      ],
      "text/plain": [
       "      age\n",
       "0    22.0\n",
       "1    38.0\n",
       "2    26.0\n",
       "3    35.0\n",
       "4    35.0\n",
       "..    ...\n",
       "886  27.0\n",
       "887  19.0\n",
       "888   NaN\n",
       "889  26.0\n",
       "890  32.0\n",
       "\n",
       "[891 rows x 1 columns]"
      ]
     },
     "execution_count": 17,
     "metadata": {},
     "output_type": "execute_result"
    }
   ],
   "source": [
    "# 시리즈를 데이터프레임으로 바꿔주는 메소드\n",
    "\n",
    "age.to_frame()"
   ]
  },
  {
   "cell_type": "code",
   "execution_count": 18,
   "id": "8043f3bf-19cc-46f5-8917-5d8a78cd72b6",
   "metadata": {},
   "outputs": [
    {
     "name": "stdout",
     "output_type": "stream",
     "text": [
      "<class 'pandas.core.frame.DataFrame'>\n",
      "RangeIndex: 891 entries, 0 to 890\n",
      "Data columns (total 1 columns):\n",
      " #   Column  Non-Null Count  Dtype  \n",
      "---  ------  --------------  -----  \n",
      " 0   age     714 non-null    float64\n",
      "dtypes: float64(1)\n",
      "memory usage: 7.1 KB\n"
     ]
    }
   ],
   "source": [
    "# 시리즈일 땐 info 사용이 불가했지만 데이터프레임으로 바꿔주고 info를 하면 실행됨\n",
    "\n",
    "age.to_frame().info()"
   ]
  },
  {
   "cell_type": "markdown",
   "id": "ce83741d-389b-43aa-a724-89eaef0eab04",
   "metadata": {},
   "source": [
    "#### Analyzing Numerical Series"
   ]
  },
  {
   "cell_type": "markdown",
   "id": "837f6116-6c46-47d8-b064-5046051f974f",
   "metadata": {},
   "source": [
    "- 수치형 Series와 그 데이터에 대해 다뤄보기"
   ]
  },
  {
   "cell_type": "code",
   "execution_count": 19,
   "id": "73899921-8dd4-40b5-bbec-90aab30558f9",
   "metadata": {},
   "outputs": [
    {
     "data": {
      "text/plain": [
       "0      22.0\n",
       "1      38.0\n",
       "2      26.0\n",
       "3      35.0\n",
       "4      35.0\n",
       "       ... \n",
       "886    27.0\n",
       "887    19.0\n",
       "888     NaN\n",
       "889    26.0\n",
       "890    32.0\n",
       "Name: age, Length: 891, dtype: float64"
      ]
     },
     "execution_count": 19,
     "metadata": {},
     "output_type": "execute_result"
    }
   ],
   "source": [
    "# age 컬럼 결과를 통해 자료는 실수형이라는 것을 알 수 있음\n",
    "\n",
    "age"
   ]
  },
  {
   "cell_type": "code",
   "execution_count": 20,
   "id": "b442cbf3-248b-4021-8f6c-5c2ced9c1c93",
   "metadata": {},
   "outputs": [
    {
     "data": {
      "text/plain": [
       "count    714.000000\n",
       "mean      29.699118\n",
       "std       14.526497\n",
       "min        0.420000\n",
       "25%       20.125000\n",
       "50%       28.000000\n",
       "75%       38.000000\n",
       "max       80.000000\n",
       "Name: age, dtype: float64"
      ]
     },
     "execution_count": 20,
     "metadata": {},
     "output_type": "execute_result"
    }
   ],
   "source": [
    "# age 칼럼의 요약통계 확인\n",
    "# null값을 제외한 데이터 수가 714로 표시\n",
    "# null값은 177개\n",
    "# 그 외에 평균, 표준편차, 최소, 최댓값 등 확인 가능\n",
    "\n",
    "age.describe()"
   ]
  },
  {
   "cell_type": "code",
   "execution_count": 21,
   "id": "db80afa9-c36d-43d9-96f9-96b1caba17f7",
   "metadata": {},
   "outputs": [],
   "source": [
    "# describe() 메소드로 얻어진 대부분의 통계값들은 별도로 구할 수도 있음"
   ]
  },
  {
   "cell_type": "code",
   "execution_count": 21,
   "id": "4f6c602f-a565-459c-861f-c24f05b608ed",
   "metadata": {},
   "outputs": [
    {
     "data": {
      "text/plain": [
       "714"
      ]
     },
     "execution_count": 21,
     "metadata": {},
     "output_type": "execute_result"
    }
   ],
   "source": [
    "age.count()"
   ]
  },
  {
   "cell_type": "code",
   "execution_count": 22,
   "id": "4970c271-5ada-459c-8c1d-ba071ee2b0c4",
   "metadata": {},
   "outputs": [
    {
     "data": {
      "text/plain": [
       "891"
      ]
     },
     "execution_count": 22,
     "metadata": {},
     "output_type": "execute_result"
    }
   ],
   "source": [
    "# count와 size를 혼동하지 않기\n",
    "# size는 모든 데이터값의 수를 반환하기 때문에 891이라는 결과가 나옴\n",
    "\n",
    "age.size"
   ]
  },
  {
   "cell_type": "code",
   "execution_count": 23,
   "id": "00bf486b-eb89-43ec-9a5b-37f239ed1060",
   "metadata": {},
   "outputs": [
    {
     "data": {
      "text/plain": [
       "891"
      ]
     },
     "execution_count": 23,
     "metadata": {},
     "output_type": "execute_result"
    }
   ],
   "source": [
    "# len도 size와 같은 결과를 보여줌\n",
    "# 결측값을 포함한 모든 데이터의 수\n",
    "\n",
    "len(age)"
   ]
  },
  {
   "cell_type": "raw",
   "id": "5d8da34a-4b90-41e3-9792-efe6a58e3b15",
   "metadata": {},
   "source": [
    "- 판다스 라이브러리의 장점은 판다스가 특별히 지저분하고 불확실한 실제 데이터를 잘 다룰 수 있도록 설계되어 있음\n",
    "- 실제 데이터셋들은 많은 결측치를 갖고 있고, 판다스는 결측값을 처리하는데 매우 좋음"
   ]
  },
  {
   "cell_type": "code",
   "execution_count": 24,
   "id": "937367ae-8c02-4595-a535-400dd6537a88",
   "metadata": {},
   "outputs": [
    {
     "data": {
      "text/plain": [
       "21205.17"
      ]
     },
     "execution_count": 24,
     "metadata": {},
     "output_type": "execute_result"
    }
   ],
   "source": [
    "# 판다스의 sum() 메소드\n",
    "\n",
    "age.sum()"
   ]
  },
  {
   "cell_type": "code",
   "execution_count": 25,
   "id": "d08c2f5b-46b9-45a5-892d-ca1c0686afdf",
   "metadata": {},
   "outputs": [
    {
     "data": {
      "text/plain": [
       "nan"
      ]
     },
     "execution_count": 25,
     "metadata": {},
     "output_type": "execute_result"
    }
   ],
   "source": [
    "# 파이썬 내장함수\n",
    "\n",
    "sum(age)"
   ]
  },
  {
   "cell_type": "raw",
   "id": "8120007e-102c-4241-80ca-7502e577c99e",
   "metadata": {},
   "source": [
    "- 파이썬 내장함수가 nan이 나오는 이유는 결측값을 어떻게 처리해야할지 모르기 때문\n",
    "- 반면, 판다스의 sum() 메소드는 기본적으로 결측값을 제외하고 계산하도록 되어 있음\n",
    "- 판다스의 sum()에 skipna=True가 기본값이기 때문\n",
    "- 판다스의 메소드들에는 skipna=True가 기본 베이스로 대부분 결측값을 무시하고 계산함"
   ]
  },
  {
   "cell_type": "code",
   "execution_count": 26,
   "id": "55cdf4b0-7cb9-4a94-a16d-4ead27b65f2b",
   "metadata": {},
   "outputs": [
    {
     "data": {
      "text/plain": [
       "29.69911764705882"
      ]
     },
     "execution_count": 26,
     "metadata": {},
     "output_type": "execute_result"
    }
   ],
   "source": [
    "age.mean()"
   ]
  },
  {
   "cell_type": "code",
   "execution_count": 27,
   "id": "7bc212df-0ab3-434d-b3bc-5524f8064707",
   "metadata": {},
   "outputs": [
    {
     "data": {
      "text/plain": [
       "28.0"
      ]
     },
     "execution_count": 27,
     "metadata": {},
     "output_type": "execute_result"
    }
   ],
   "source": [
    "age.median()"
   ]
  },
  {
   "cell_type": "code",
   "execution_count": 28,
   "id": "d9e96ea9-4c40-400b-94fb-d87c7cdc17f3",
   "metadata": {},
   "outputs": [
    {
     "data": {
      "text/plain": [
       "14.526497332334044"
      ]
     },
     "execution_count": 28,
     "metadata": {},
     "output_type": "execute_result"
    }
   ],
   "source": [
    "age.std()"
   ]
  },
  {
   "cell_type": "code",
   "execution_count": 29,
   "id": "82f736aa-d4ee-4b7c-94ec-5ec1968748c7",
   "metadata": {},
   "outputs": [
    {
     "data": {
      "text/plain": [
       "0.42"
      ]
     },
     "execution_count": 29,
     "metadata": {},
     "output_type": "execute_result"
    }
   ],
   "source": [
    "age.min()"
   ]
  },
  {
   "cell_type": "code",
   "execution_count": 30,
   "id": "09e9d143-2598-44de-b33e-420e364a142f",
   "metadata": {},
   "outputs": [
    {
     "data": {
      "text/plain": [
       "80.0"
      ]
     },
     "execution_count": 30,
     "metadata": {},
     "output_type": "execute_result"
    }
   ],
   "source": [
    "age.max()"
   ]
  },
  {
   "cell_type": "code",
   "execution_count": 31,
   "id": "a101955f-fa01-4b37-ad98-df3a3140b0ad",
   "metadata": {},
   "outputs": [
    {
     "data": {
      "text/plain": [
       "array([22.  , 38.  , 26.  , 35.  ,   nan, 54.  ,  2.  , 27.  , 14.  ,\n",
       "        4.  , 58.  , 20.  , 39.  , 55.  , 31.  , 34.  , 15.  , 28.  ,\n",
       "        8.  , 19.  , 40.  , 66.  , 42.  , 21.  , 18.  ,  3.  ,  7.  ,\n",
       "       49.  , 29.  , 65.  , 28.5 ,  5.  , 11.  , 45.  , 17.  , 32.  ,\n",
       "       16.  , 25.  ,  0.83, 30.  , 33.  , 23.  , 24.  , 46.  , 59.  ,\n",
       "       71.  , 37.  , 47.  , 14.5 , 70.5 , 32.5 , 12.  ,  9.  , 36.5 ,\n",
       "       51.  , 55.5 , 40.5 , 44.  ,  1.  , 61.  , 56.  , 50.  , 36.  ,\n",
       "       45.5 , 20.5 , 62.  , 41.  , 52.  , 63.  , 23.5 ,  0.92, 43.  ,\n",
       "       60.  , 10.  , 64.  , 13.  , 48.  ,  0.75, 53.  , 57.  , 80.  ,\n",
       "       70.  , 24.5 ,  6.  ,  0.67, 30.5 ,  0.42, 34.5 , 74.  ])"
      ]
     },
     "execution_count": 31,
     "metadata": {},
     "output_type": "execute_result"
    }
   ],
   "source": [
    "# unique는 시리즈의 고유값을 반환\n",
    "# 중복된 값을 제거하고 고유값만을 순서대로 보여줌\n",
    "# 결측값도 nan이라고 나옴\n",
    "\n",
    "age.unique()"
   ]
  },
  {
   "cell_type": "code",
   "execution_count": 32,
   "id": "77549775-2947-48f1-8bf6-52ae5f994062",
   "metadata": {},
   "outputs": [
    {
     "data": {
      "text/plain": [
       "89"
      ]
     },
     "execution_count": 32,
     "metadata": {},
     "output_type": "execute_result"
    }
   ],
   "source": [
    "# 고유값의 수 확인\n",
    "\n",
    "len(age.unique())"
   ]
  },
  {
   "cell_type": "code",
   "execution_count": 33,
   "id": "9f12f03d-cc9c-4ee0-ad03-6b585bb3c6b2",
   "metadata": {},
   "outputs": [
    {
     "data": {
      "text/plain": [
       "88"
      ]
     },
     "execution_count": 33,
     "metadata": {},
     "output_type": "execute_result"
    }
   ],
   "source": [
    "# nunique는 고유값의 수를 구하는 메소드\n",
    "# len으로 구한 고유값 수와 1개 차이가 나는 이유는 nunique는 결측값을 제외하기 때문\n",
    "\n",
    "age.nunique()"
   ]
  },
  {
   "cell_type": "code",
   "execution_count": 34,
   "id": "f5582d15-0ac7-49cd-9953-a23c9d1c00b3",
   "metadata": {},
   "outputs": [
    {
     "data": {
      "text/plain": [
       "89"
      ]
     },
     "execution_count": 34,
     "metadata": {},
     "output_type": "execute_result"
    }
   ],
   "source": [
    "# 옵션에 dropna = False를 통해 결측값을 포함할 수 있음\n",
    "\n",
    "age.nunique(dropna = False)"
   ]
  },
  {
   "cell_type": "code",
   "execution_count": 35,
   "id": "626ec135-e0da-452b-a24f-3d205514482c",
   "metadata": {},
   "outputs": [
    {
     "data": {
      "text/plain": [
       "24.00    30\n",
       "22.00    27\n",
       "18.00    26\n",
       "28.00    25\n",
       "19.00    25\n",
       "         ..\n",
       "55.50     1\n",
       "74.00     1\n",
       "0.92      1\n",
       "70.50     1\n",
       "12.00     1\n",
       "Name: age, Length: 88, dtype: int64"
      ]
     },
     "execution_count": 35,
     "metadata": {},
     "output_type": "execute_result"
    }
   ],
   "source": [
    "# 각 고유값들에 대한 빈도를 가장 높은 빈도부터 순서대로 보여줌\n",
    "\n",
    "age.value_counts()"
   ]
  },
  {
   "cell_type": "code",
   "execution_count": 36,
   "id": "25706d9f-52a4-4788-abfd-51fda295cfe5",
   "metadata": {},
   "outputs": [
    {
     "data": {
      "text/plain": [
       "31.0    17\n",
       "15.0     5\n",
       "44.0     9\n",
       "10.0     2\n",
       "53.0     1\n",
       "        ..\n",
       "30.5     2\n",
       "60.0     4\n",
       "56.0     4\n",
       "20.5     1\n",
       "54.0     8\n",
       "Name: age, Length: 88, dtype: int64"
      ]
     },
     "execution_count": 36,
     "metadata": {},
     "output_type": "execute_result"
    }
   ],
   "source": [
    "# sort = False하면 원래 자료에 있는 순서대로 출력됨\n",
    "# 디폴트는  sort = True\n",
    "\n",
    "age.value_counts(sort = False)"
   ]
  },
  {
   "cell_type": "code",
   "execution_count": 38,
   "id": "e83c26ad-1162-44e6-8b7b-234e24c7948e",
   "metadata": {},
   "outputs": [
    {
     "data": {
      "text/plain": [
       "NaN      177\n",
       "24.00     30\n",
       "22.00     27\n",
       "18.00     26\n",
       "28.00     25\n",
       "        ... \n",
       "0.42       1\n",
       "34.50      1\n",
       "66.00      1\n",
       "14.50      1\n",
       "0.92       1\n",
       "Name: age, Length: 89, dtype: int64"
      ]
     },
     "execution_count": 38,
     "metadata": {},
     "output_type": "execute_result"
    }
   ],
   "source": [
    "# 결측값들을 분석에 포함할지 결정\n",
    "# dropna = True가 디폴트\n",
    "\n",
    "age.value_counts(dropna = False)"
   ]
  },
  {
   "cell_type": "code",
   "execution_count": 39,
   "id": "e53592ef-6cb2-4bcd-a063-40959d64c800",
   "metadata": {},
   "outputs": [
    {
     "data": {
      "text/plain": [
       "0.67      1\n",
       "14.50     1\n",
       "36.50     1\n",
       "74.00     1\n",
       "24.50     1\n",
       "         ..\n",
       "19.00    25\n",
       "30.00    25\n",
       "18.00    26\n",
       "22.00    27\n",
       "24.00    30\n",
       "Name: age, Length: 88, dtype: int64"
      ]
     },
     "execution_count": 39,
     "metadata": {},
     "output_type": "execute_result"
    }
   ],
   "source": [
    "# 높은 빈도부터 순서대로 값을 보여주는 이유는 ascending = False가 디폴트이기 때문\n",
    "\n",
    "age.value_counts(ascending=True)"
   ]
  },
  {
   "cell_type": "code",
   "execution_count": 40,
   "id": "7509ade8-885e-4ecb-a307-289ba88ea1fb",
   "metadata": {},
   "outputs": [
    {
     "data": {
      "text/plain": [
       "24.00    30\n",
       "22.00    27\n",
       "18.00    26\n",
       "28.00    25\n",
       "19.00    25\n",
       "         ..\n",
       "55.50     1\n",
       "74.00     1\n",
       "0.92      1\n",
       "70.50     1\n",
       "12.00     1\n",
       "Name: age, Length: 88, dtype: int64"
      ]
     },
     "execution_count": 40,
     "metadata": {},
     "output_type": "execute_result"
    }
   ],
   "source": [
    "# 판다스는 기본적으로 해당 함수를 통해 절대도수를 반환\n",
    "# 하지만 상대도수를 반환하는 선택지도 있음\n",
    "# 현재는 기본값들을 통한 절대도수\n",
    "\n",
    "age.value_counts(sort = True, dropna = True, ascending = False, normalize = False)"
   ]
  },
  {
   "cell_type": "code",
   "execution_count": 41,
   "id": "8b91078e-3aaf-491a-b3db-8a8c76f3191b",
   "metadata": {},
   "outputs": [
    {
     "data": {
      "text/plain": [
       "24.00    0.042017\n",
       "22.00    0.037815\n",
       "18.00    0.036415\n",
       "28.00    0.035014\n",
       "19.00    0.035014\n",
       "           ...   \n",
       "55.50    0.001401\n",
       "74.00    0.001401\n",
       "0.92     0.001401\n",
       "70.50    0.001401\n",
       "12.00    0.001401\n",
       "Name: age, Length: 88, dtype: float64"
      ]
     },
     "execution_count": 41,
     "metadata": {},
     "output_type": "execute_result"
    }
   ],
   "source": [
    "# normalize = True로 상대도수 출력하기\n",
    "# 24세 승객은 4.2%, 22세는 3.7% 등으로 상대도수를 확인할 수 있음\n",
    "\n",
    "age.value_counts(sort = True, dropna = True, ascending = False, normalize = True)"
   ]
  },
  {
   "cell_type": "code",
   "execution_count": 42,
   "id": "eaa5b753-da3e-4310-8a05-4cb3290c7813",
   "metadata": {},
   "outputs": [
    {
     "data": {
      "text/plain": [
       "0.04201680672268908"
      ]
     },
     "execution_count": 42,
     "metadata": {},
     "output_type": "execute_result"
    }
   ],
   "source": [
    "# 그렇다면 판다스는 상대도수를 어떻게 계산할까?\n",
    "# 24세 승객의 절대도수는 30, 상대도수는 4.2%\n",
    "# 30을 결측값을 제외한 승객 수로 나누면 상대도수인 4.2가 나오게 됨\n",
    "\n",
    "# 여기서 결측값을 제외한 승객 수로 나눠줬다는 것이 중요\n",
    "\n",
    "30/age.count()"
   ]
  },
  {
   "cell_type": "code",
   "execution_count": 43,
   "id": "b4b5d0e1-7618-48df-8dfc-81137f2f0d0f",
   "metadata": {},
   "outputs": [
    {
     "data": {
      "text/plain": [
       "NaN      0.198653\n",
       "24.00    0.033670\n",
       "22.00    0.030303\n",
       "18.00    0.029181\n",
       "28.00    0.028058\n",
       "           ...   \n",
       "0.42     0.001122\n",
       "34.50    0.001122\n",
       "66.00    0.001122\n",
       "14.50    0.001122\n",
       "0.92     0.001122\n",
       "Name: age, Length: 89, dtype: float64"
      ]
     },
     "execution_count": 43,
     "metadata": {},
     "output_type": "execute_result"
    }
   ],
   "source": [
    "# dropna = False 하게 되면 분모가 바뀌어 상대도수도 바뀜\n",
    "\n",
    "age.value_counts(sort = True, dropna = False, ascending = False, normalize = True)"
   ]
  },
  {
   "cell_type": "code",
   "execution_count": 44,
   "id": "53643eb0-a5f7-45f6-94e9-5e055bff2352",
   "metadata": {},
   "outputs": [
    {
     "data": {
      "text/plain": [
       "0.03367003367003367"
      ]
     },
     "execution_count": 44,
     "metadata": {},
     "output_type": "execute_result"
    }
   ],
   "source": [
    "# 결측치를 포함한 상대도수 구하기\n",
    "\n",
    "30/age.size"
   ]
  },
  {
   "cell_type": "code",
   "execution_count": 45,
   "id": "af78bf1e-3a4f-4ce7-b4e4-3e2899cd6110",
   "metadata": {},
   "outputs": [
    {
     "data": {
      "text/plain": [
       "(16.336, 32.252]    346\n",
       "(32.252, 48.168]    188\n",
       "(0.339, 16.336]     100\n",
       "(48.168, 64.084]     69\n",
       "(64.084, 80.0]       11\n",
       "Name: age, dtype: int64"
      ]
     },
     "execution_count": 45,
     "metadata": {},
     "output_type": "execute_result"
    }
   ],
   "source": [
    "# bins를 이용해 고유값들을 균일한 크기의 구간으로 묶어 도수 확인하기\n",
    "\n",
    "# 16씩 나누어 구간이 설정된 것을 확인할 수 있음\n",
    "# 346명의 승객이 16세에서 32세 사이\n",
    "# 64세에서 80세 사이의 승객이 가장 적음\n",
    "\n",
    "age.value_counts(sort = True, dropna = True, ascending = False, normalize = False, bins = 5)"
   ]
  },
  {
   "cell_type": "code",
   "execution_count": 47,
   "id": "9b0985f2-c659-4243-9a7f-fc31a318fe9b",
   "metadata": {},
   "outputs": [],
   "source": [
    "# 결론적으로 value_counts() 메소드 결과도 판다스 시리즈라는 것\n",
    "# 절대도수, 상대도수들은 시리즈 값을 나타내고\n",
    "# 왼쪽 열은 시리즈의 인덱스로 연령의 고유값임"
   ]
  },
  {
   "cell_type": "markdown",
   "id": "13386778-0461-496a-a573-ab45458adb14",
   "metadata": {},
   "source": [
    "### Analyzing non-numerical Series"
   ]
  },
  {
   "cell_type": "markdown",
   "id": "46aec762-8f29-458b-b54e-2b999ec7722f",
   "metadata": {},
   "source": [
    "- 문자열 데이터 등 비수치적 데이터들을 시리즈로 다루는 법"
   ]
  },
  {
   "cell_type": "code",
   "execution_count": 49,
   "id": "ad9b3ea1-42b9-4122-9efc-0699d1ab8e62",
   "metadata": {},
   "outputs": [],
   "source": [
    "# 하계올림픽 메달 데이터셋\n",
    "\n",
    "summer = pd.read_csv(r'C:\\Users\\A\\Desktop\\데잇걸즈\\3. python\\udemy\\Course_Materials_Part1\\Video_Lecture_NBs\\summer.csv')"
   ]
  },
  {
   "cell_type": "code",
   "execution_count": 50,
   "id": "ec67bbe1-383e-43f5-985b-05f6e2dfc2c5",
   "metadata": {},
   "outputs": [
    {
     "data": {
      "text/html": [
       "<div>\n",
       "<style scoped>\n",
       "    .dataframe tbody tr th:only-of-type {\n",
       "        vertical-align: middle;\n",
       "    }\n",
       "\n",
       "    .dataframe tbody tr th {\n",
       "        vertical-align: top;\n",
       "    }\n",
       "\n",
       "    .dataframe thead th {\n",
       "        text-align: right;\n",
       "    }\n",
       "</style>\n",
       "<table border=\"1\" class=\"dataframe\">\n",
       "  <thead>\n",
       "    <tr style=\"text-align: right;\">\n",
       "      <th></th>\n",
       "      <th>Year</th>\n",
       "      <th>City</th>\n",
       "      <th>Sport</th>\n",
       "      <th>Discipline</th>\n",
       "      <th>Athlete</th>\n",
       "      <th>Country</th>\n",
       "      <th>Gender</th>\n",
       "      <th>Event</th>\n",
       "      <th>Medal</th>\n",
       "    </tr>\n",
       "  </thead>\n",
       "  <tbody>\n",
       "    <tr>\n",
       "      <th>0</th>\n",
       "      <td>1896</td>\n",
       "      <td>Athens</td>\n",
       "      <td>Aquatics</td>\n",
       "      <td>Swimming</td>\n",
       "      <td>HAJOS, Alfred</td>\n",
       "      <td>HUN</td>\n",
       "      <td>Men</td>\n",
       "      <td>100M Freestyle</td>\n",
       "      <td>Gold</td>\n",
       "    </tr>\n",
       "    <tr>\n",
       "      <th>1</th>\n",
       "      <td>1896</td>\n",
       "      <td>Athens</td>\n",
       "      <td>Aquatics</td>\n",
       "      <td>Swimming</td>\n",
       "      <td>HERSCHMANN, Otto</td>\n",
       "      <td>AUT</td>\n",
       "      <td>Men</td>\n",
       "      <td>100M Freestyle</td>\n",
       "      <td>Silver</td>\n",
       "    </tr>\n",
       "    <tr>\n",
       "      <th>2</th>\n",
       "      <td>1896</td>\n",
       "      <td>Athens</td>\n",
       "      <td>Aquatics</td>\n",
       "      <td>Swimming</td>\n",
       "      <td>DRIVAS, Dimitrios</td>\n",
       "      <td>GRE</td>\n",
       "      <td>Men</td>\n",
       "      <td>100M Freestyle For Sailors</td>\n",
       "      <td>Bronze</td>\n",
       "    </tr>\n",
       "    <tr>\n",
       "      <th>3</th>\n",
       "      <td>1896</td>\n",
       "      <td>Athens</td>\n",
       "      <td>Aquatics</td>\n",
       "      <td>Swimming</td>\n",
       "      <td>MALOKINIS, Ioannis</td>\n",
       "      <td>GRE</td>\n",
       "      <td>Men</td>\n",
       "      <td>100M Freestyle For Sailors</td>\n",
       "      <td>Gold</td>\n",
       "    </tr>\n",
       "    <tr>\n",
       "      <th>4</th>\n",
       "      <td>1896</td>\n",
       "      <td>Athens</td>\n",
       "      <td>Aquatics</td>\n",
       "      <td>Swimming</td>\n",
       "      <td>CHASAPIS, Spiridon</td>\n",
       "      <td>GRE</td>\n",
       "      <td>Men</td>\n",
       "      <td>100M Freestyle For Sailors</td>\n",
       "      <td>Silver</td>\n",
       "    </tr>\n",
       "  </tbody>\n",
       "</table>\n",
       "</div>"
      ],
      "text/plain": [
       "   Year    City     Sport Discipline             Athlete Country Gender  \\\n",
       "0  1896  Athens  Aquatics   Swimming       HAJOS, Alfred     HUN    Men   \n",
       "1  1896  Athens  Aquatics   Swimming    HERSCHMANN, Otto     AUT    Men   \n",
       "2  1896  Athens  Aquatics   Swimming   DRIVAS, Dimitrios     GRE    Men   \n",
       "3  1896  Athens  Aquatics   Swimming  MALOKINIS, Ioannis     GRE    Men   \n",
       "4  1896  Athens  Aquatics   Swimming  CHASAPIS, Spiridon     GRE    Men   \n",
       "\n",
       "                        Event   Medal  \n",
       "0              100M Freestyle    Gold  \n",
       "1              100M Freestyle  Silver  \n",
       "2  100M Freestyle For Sailors  Bronze  \n",
       "3  100M Freestyle For Sailors    Gold  \n",
       "4  100M Freestyle For Sailors  Silver  "
      ]
     },
     "execution_count": 50,
     "metadata": {},
     "output_type": "execute_result"
    }
   ],
   "source": [
    "summer.head()"
   ]
  },
  {
   "cell_type": "code",
   "execution_count": 51,
   "id": "d1e10725-f895-475e-8ef9-825bade17382",
   "metadata": {},
   "outputs": [
    {
     "name": "stdout",
     "output_type": "stream",
     "text": [
      "<class 'pandas.core.frame.DataFrame'>\n",
      "RangeIndex: 31165 entries, 0 to 31164\n",
      "Data columns (total 9 columns):\n",
      " #   Column      Non-Null Count  Dtype \n",
      "---  ------      --------------  ----- \n",
      " 0   Year        31165 non-null  int64 \n",
      " 1   City        31165 non-null  object\n",
      " 2   Sport       31165 non-null  object\n",
      " 3   Discipline  31165 non-null  object\n",
      " 4   Athlete     31165 non-null  object\n",
      " 5   Country     31161 non-null  object\n",
      " 6   Gender      31165 non-null  object\n",
      " 7   Event       31165 non-null  object\n",
      " 8   Medal       31165 non-null  object\n",
      "dtypes: int64(1), object(8)\n",
      "memory usage: 2.1+ MB\n"
     ]
    }
   ],
   "source": [
    "# 31165개의 데이터\n",
    "# 총 9개의 컬럼\n",
    "# Country 외엔 걸측치 있는 컬럼은 없음\n",
    "# Year 컬럼만 정수형, 나머지 컬럼은 문자열로 구성\n",
    "\n",
    "summer.info()"
   ]
  },
  {
   "cell_type": "code",
   "execution_count": 52,
   "id": "f363c3f1-5fa6-434f-a021-ed1a6b6c192a",
   "metadata": {},
   "outputs": [],
   "source": [
    "# Athlete 컬럼만 시리즈로 얻어내기\n",
    "\n",
    "athlete = summer[\"Athlete\"]"
   ]
  },
  {
   "cell_type": "code",
   "execution_count": 53,
   "id": "8cab9acd-e7de-4bb3-b9a5-29db9754f28b",
   "metadata": {},
   "outputs": [
    {
     "data": {
      "text/plain": [
       "pandas.core.series.Series"
      ]
     },
     "execution_count": 53,
     "metadata": {},
     "output_type": "execute_result"
    }
   ],
   "source": [
    "type(athlete)"
   ]
  },
  {
   "cell_type": "code",
   "execution_count": 54,
   "id": "632b2c6d-8bce-46dc-9e3d-9b60253556d5",
   "metadata": {},
   "outputs": [
    {
     "data": {
      "text/plain": [
       "0         HAJOS, Alfred\n",
       "1      HERSCHMANN, Otto\n",
       "2     DRIVAS, Dimitrios\n",
       "3    MALOKINIS, Ioannis\n",
       "4    CHASAPIS, Spiridon\n",
       "Name: Athlete, dtype: object"
      ]
     },
     "execution_count": 54,
     "metadata": {},
     "output_type": "execute_result"
    }
   ],
   "source": [
    "athlete.head()"
   ]
  },
  {
   "cell_type": "code",
   "execution_count": 55,
   "id": "41bbedc5-0661-4ef5-b42e-636b7cdff4f4",
   "metadata": {},
   "outputs": [
    {
     "data": {
      "text/plain": [
       "dtype('O')"
      ]
     },
     "execution_count": 55,
     "metadata": {},
     "output_type": "execute_result"
    }
   ],
   "source": [
    "# dtype('O')라는 것은 문자열이라는 뜻\n",
    "\n",
    "athlete.dtype"
   ]
  },
  {
   "cell_type": "code",
   "execution_count": 56,
   "id": "f59a4861-8944-4e00-b2d1-81620ff5369b",
   "metadata": {},
   "outputs": [
    {
     "data": {
      "text/plain": [
       "(31165,)"
      ]
     },
     "execution_count": 56,
     "metadata": {},
     "output_type": "execute_result"
    }
   ],
   "source": [
    "# 1차원 배열인 것 확인\n",
    "# 시리즈는 항상 1차원 배열\n",
    "\n",
    "athlete.shape"
   ]
  },
  {
   "cell_type": "code",
   "execution_count": 57,
   "id": "698f64ab-c0bf-4dc5-beaa-c519f9c049f9",
   "metadata": {},
   "outputs": [
    {
     "data": {
      "text/plain": [
       "count               31165\n",
       "unique              22762\n",
       "top       PHELPS, Michael\n",
       "freq                   22\n",
       "Name: Athlete, dtype: object"
      ]
     },
     "execution_count": 57,
     "metadata": {},
     "output_type": "execute_result"
    }
   ],
   "source": [
    "# count = 총 데이터 수\n",
    "# unique = 고유값 수. 많은 선수들이 메달을 여러 차례 획득한 것을 알 수 있음\n",
    "# top = 최빈값. 마이클 펠프스가 가장 많은 메달을 획득함\n",
    "# freq = 최빈값의 수. 마이클 펠프스가 총 22번의 메달을 획득\n",
    "\n",
    "athlete.describe()"
   ]
  },
  {
   "cell_type": "code",
   "execution_count": 60,
   "id": "12605fdc-944d-4706-a964-9b7c053ca93d",
   "metadata": {},
   "outputs": [
    {
     "data": {
      "text/plain": [
       "31165"
      ]
     },
     "execution_count": 60,
     "metadata": {},
     "output_type": "execute_result"
    }
   ],
   "source": [
    "athlete.size"
   ]
  },
  {
   "cell_type": "code",
   "execution_count": 59,
   "id": "87d46c97-37ad-446a-8ea9-45b667ec4101",
   "metadata": {},
   "outputs": [
    {
     "data": {
      "text/plain": [
       "31165"
      ]
     },
     "execution_count": 59,
     "metadata": {},
     "output_type": "execute_result"
    }
   ],
   "source": [
    "# 이 열에는 결측값이 없는 것으로 확인\n",
    "# 결측값이 있다면 athlete.size보다 작은 값이 나왔을 것\n",
    "\n",
    "athlete.count()"
   ]
  },
  {
   "cell_type": "code",
   "execution_count": 61,
   "id": "183ac06e-9001-4486-bd0b-1afb59b992dd",
   "metadata": {},
   "outputs": [
    {
     "data": {
      "text/plain": [
       "'AABYE, Edgar'"
      ]
     },
     "execution_count": 61,
     "metadata": {},
     "output_type": "execute_result"
    }
   ],
   "source": [
    "# 알파벳 순으로 가장 먼저 오는 이름을 반환\n",
    "\n",
    "athlete.min()"
   ]
  },
  {
   "cell_type": "code",
   "execution_count": 62,
   "id": "ca6be179-4951-4d43-9f75-f01944191627",
   "metadata": {},
   "outputs": [
    {
     "data": {
      "text/plain": [
       "array(['HAJOS, Alfred', 'HERSCHMANN, Otto', 'DRIVAS, Dimitrios', ...,\n",
       "       'TOTROV, Rustam', 'ALEKSANYAN, Artur', 'LIDBERG, Jimmy'],\n",
       "      dtype=object)"
      ]
     },
     "execution_count": 62,
     "metadata": {},
     "output_type": "execute_result"
    }
   ],
   "source": [
    "# 고유값 확인\n",
    "# 하계 올림픽에서 메달을 하나라도 받은 선수들\n",
    "\n",
    "athlete.unique()"
   ]
  },
  {
   "cell_type": "code",
   "execution_count": 63,
   "id": "0523a758-7f1f-4707-9ac9-36b080f6ff88",
   "metadata": {},
   "outputs": [
    {
     "data": {
      "text/plain": [
       "22762"
      ]
     },
     "execution_count": 63,
     "metadata": {},
     "output_type": "execute_result"
    }
   ],
   "source": [
    "# 총 22762명의 선수들이 하계 올림픽에서 메달 획득\n",
    "\n",
    "len(athlete.unique())"
   ]
  },
  {
   "cell_type": "code",
   "execution_count": 64,
   "id": "425cea10-f1cf-42ae-8b16-73bc572a0f99",
   "metadata": {},
   "outputs": [
    {
     "data": {
      "text/plain": [
       "22762"
      ]
     },
     "execution_count": 64,
     "metadata": {},
     "output_type": "execute_result"
    }
   ],
   "source": [
    "# 결측값이 없으므로 unique 값과 결과 동일\n",
    "\n",
    "athlete.nunique()"
   ]
  },
  {
   "cell_type": "code",
   "execution_count": 65,
   "id": "ff87d84e-6ce9-46ea-845d-09f6fcdb6e6b",
   "metadata": {},
   "outputs": [
    {
     "data": {
      "text/plain": [
       "PHELPS, Michael                 22\n",
       "LATYNINA, Larisa                18\n",
       "ANDRIANOV, Nikolay              15\n",
       "ONO, Takashi                    13\n",
       "MANGIAROTTI, Edoardo            13\n",
       "                                ..\n",
       "SILVINO, Anselmo                 1\n",
       "BELLO, Fernando Pinto Coelho     1\n",
       "OLSEN, Ejnar                     1\n",
       "GRIMALDI, Martina                1\n",
       "SPENGLER, Jörg                   1\n",
       "Name: Athlete, Length: 22762, dtype: int64"
      ]
     },
     "execution_count": 65,
     "metadata": {},
     "output_type": "execute_result"
    }
   ],
   "source": [
    "# 선수별로 메달을 몇 개 획득했는지 확인\n",
    "\n",
    "athlete.value_counts()"
   ]
  },
  {
   "cell_type": "code",
   "execution_count": 66,
   "id": "56150948-bbf5-4cc8-8e76-0f6fa7eeafed",
   "metadata": {},
   "outputs": [
    {
     "data": {
      "text/plain": [
       "PHELPS, Michael         0.000706\n",
       "LATYNINA, Larisa        0.000578\n",
       "ANDRIANOV, Nikolay      0.000481\n",
       "ONO, Takashi            0.000417\n",
       "MANGIAROTTI, Edoardo    0.000417\n",
       "Name: Athlete, dtype: float64"
      ]
     },
     "execution_count": 66,
     "metadata": {},
     "output_type": "execute_result"
    }
   ],
   "source": [
    "# 상대도수 확인하기\n",
    "# 가장 많은 메달을 획득한 마이클 펠프스는 전체 메달의 0.0706% 밖에 되지 않음\n",
    "\n",
    "athlete.value_counts(normalize= True).head()"
   ]
  }
 ],
 "metadata": {
  "kernelspec": {
   "display_name": "Python 3",
   "language": "python",
   "name": "python3"
  },
  "language_info": {
   "codemirror_mode": {
    "name": "ipython",
    "version": 3
   },
   "file_extension": ".py",
   "mimetype": "text/x-python",
   "name": "python",
   "nbconvert_exporter": "python",
   "pygments_lexer": "ipython3",
   "version": "3.8.8"
  }
 },
 "nbformat": 4,
 "nbformat_minor": 5
}
